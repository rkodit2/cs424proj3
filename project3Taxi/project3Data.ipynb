{
 "cells": [
  {
   "cell_type": "code",
   "execution_count": 101,
   "id": "1120594f",
   "metadata": {},
   "outputs": [],
   "source": [
    "library(DT)\n",
    "library(ggplot2)\n",
    "library(lubridate)\n",
    "library(plyr)\n",
    "library(dplyr)\n",
    "library(scales)"
   ]
  },
  {
   "cell_type": "code",
   "execution_count": null,
   "id": "8d7694a2",
   "metadata": {},
   "outputs": [],
   "source": []
  },
  {
   "cell_type": "code",
   "execution_count": 85,
   "id": "ca312fb6",
   "metadata": {},
   "outputs": [],
   "source": [
    "temp = list.files(pattern=\"*_1.csv\")\n",
    "allData2 <- lapply(temp, read.csv)\n",
    "allData3 <- do.call(rbind, allData2)"
   ]
  },
  {
   "cell_type": "code",
   "execution_count": 63,
   "id": "5d889af3",
   "metadata": {},
   "outputs": [],
   "source": [
    "temp2 = list.files(pattern=\"*Company_names.csv\")\n",
    "allDataLL <- lapply(temp2, read.csv)\n",
    "allDataLL3 <- do.call(rbind, allDataLL)"
   ]
  },
  {
   "cell_type": "code",
   "execution_count": 64,
   "id": "636f02ac",
   "metadata": {},
   "outputs": [
    {
     "data": {
      "text/html": [
       "55"
      ],
      "text/latex": [
       "55"
      ],
      "text/markdown": [
       "55"
      ],
      "text/plain": [
       "[1] 55"
      ]
     },
     "metadata": {},
     "output_type": "display_data"
    }
   ],
   "source": [
    "nrow(allDataLL3)"
   ]
  },
  {
   "cell_type": "code",
   "execution_count": 65,
   "id": "478bda9b",
   "metadata": {},
   "outputs": [
    {
     "data": {
      "text/html": [
       "11398006"
      ],
      "text/latex": [
       "11398006"
      ],
      "text/markdown": [
       "11398006"
      ],
      "text/plain": [
       "[1] 11398006"
      ]
     },
     "metadata": {},
     "output_type": "display_data"
    }
   ],
   "source": [
    "nrow(allData3)"
   ]
  },
  {
   "cell_type": "code",
   "execution_count": 66,
   "id": "ab9bf275",
   "metadata": {},
   "outputs": [
    {
     "data": {
      "text/html": [
       "<ol class=list-inline>\n",
       "\t<li>'Trip.Start.Timestamp'</li>\n",
       "\t<li>'Trip.Seconds'</li>\n",
       "\t<li>'Trip.Miles'</li>\n",
       "\t<li>'Pickup.Community.Area'</li>\n",
       "\t<li>'Drop.off.community.Area'</li>\n",
       "\t<li>'id'</li>\n",
       "</ol>\n"
      ],
      "text/latex": [
       "\\begin{enumerate*}\n",
       "\\item 'Trip.Start.Timestamp'\n",
       "\\item 'Trip.Seconds'\n",
       "\\item 'Trip.Miles'\n",
       "\\item 'Pickup.Community.Area'\n",
       "\\item 'Drop.off.community.Area'\n",
       "\\item 'id'\n",
       "\\end{enumerate*}\n"
      ],
      "text/markdown": [
       "1. 'Trip.Start.Timestamp'\n",
       "2. 'Trip.Seconds'\n",
       "3. 'Trip.Miles'\n",
       "4. 'Pickup.Community.Area'\n",
       "5. 'Drop.off.community.Area'\n",
       "6. 'id'\n",
       "\n",
       "\n"
      ],
      "text/plain": [
       "[1] \"Trip.Start.Timestamp\"    \"Trip.Seconds\"           \n",
       "[3] \"Trip.Miles\"              \"Pickup.Community.Area\"  \n",
       "[5] \"Drop.off.community.Area\" \"id\"                     "
      ]
     },
     "metadata": {},
     "output_type": "display_data"
    }
   ],
   "source": [
    "colnames(allData3)"
   ]
  },
  {
   "cell_type": "code",
   "execution_count": 87,
   "id": "cb1d871b",
   "metadata": {},
   "outputs": [
    {
     "name": "stderr",
     "output_type": "stream",
     "text": [
      "Warning message:\n",
      "\"All formats failed to parse. No formats found.\""
     ]
    }
   ],
   "source": [
    "lubridateDate <- mdy_hms(allData3$'Trip.Start.Timestamp')\n",
    "\n",
    "allData3$lubridateDate <- lubridateDate\n",
    "allData3$month <- month(lubridateDate)\n",
    "allData3$day <- day(lubridateDate)\n",
    "allData3$year <- year(lubridateDate)\n",
    "allData3$hour <- hour(lubridateDate)\n",
    "allData3$minute <- minute(lubridateDate)\n",
    "allData3$second <- second(lubridateDate)\n",
    "allData3$weekday <- weekdays(allData3$lubridateDate)\n",
    "\n"
   ]
  },
  {
   "cell_type": "code",
   "execution_count": 91,
   "id": "209a4772",
   "metadata": {},
   "outputs": [],
   "source": [
    "allData3$lubridateDateOnly <- as.Date(mdy_hms(allData3$'Trip.Start.Timestamp'))"
   ]
  },
  {
   "cell_type": "code",
   "execution_count": 84,
   "id": "6844c2a2",
   "metadata": {},
   "outputs": [
    {
     "ename": "ERROR",
     "evalue": "Error in as.POSIXlt.character(as.character(x), ...): character string is not in a standard unambiguous format\n",
     "output_type": "error",
     "traceback": [
      "Error in as.POSIXlt.character(as.character(x), ...): character string is not in a standard unambiguous format\nTraceback:\n",
      "1. date(allData3$Trip.Start.Timestamp)",
      "2. date.default(allData3$Trip.Start.Timestamp)",
      "3. as.POSIXlt(x, tz = tz(x))",
      "4. as.POSIXlt.factor(x, tz = tz(x))",
      "5. as.POSIXlt(as.character(x), ...)",
      "6. as.POSIXlt.character(as.character(x), ...)",
      "7. stop(\"character string is not in a standard unambiguous format\")"
     ]
    }
   ],
   "source": [
    "#lubridateDateOnly <- date(allData3$'Trip.Start.Timestamp')\n"
   ]
  },
  {
   "cell_type": "code",
   "execution_count": 88,
   "id": "1ba036d8",
   "metadata": {},
   "outputs": [
    {
     "data": {
      "text/html": [
       "<ol class=list-inline>\n",
       "\t<li>'Trip.Start.Timestamp'</li>\n",
       "\t<li>'Trip.Seconds'</li>\n",
       "\t<li>'Trip.Miles'</li>\n",
       "\t<li>'Pickup.Community.Area'</li>\n",
       "\t<li>'Drop.off.community.Area'</li>\n",
       "\t<li>'id'</li>\n",
       "\t<li>'lubridateDate'</li>\n",
       "\t<li>'lubridateDateOnly'</li>\n",
       "\t<li>'month'</li>\n",
       "\t<li>'day'</li>\n",
       "\t<li>'year'</li>\n",
       "\t<li>'hour'</li>\n",
       "\t<li>'minute'</li>\n",
       "\t<li>'second'</li>\n",
       "\t<li>'weekday'</li>\n",
       "</ol>\n"
      ],
      "text/latex": [
       "\\begin{enumerate*}\n",
       "\\item 'Trip.Start.Timestamp'\n",
       "\\item 'Trip.Seconds'\n",
       "\\item 'Trip.Miles'\n",
       "\\item 'Pickup.Community.Area'\n",
       "\\item 'Drop.off.community.Area'\n",
       "\\item 'id'\n",
       "\\item 'lubridateDate'\n",
       "\\item 'lubridateDateOnly'\n",
       "\\item 'month'\n",
       "\\item 'day'\n",
       "\\item 'year'\n",
       "\\item 'hour'\n",
       "\\item 'minute'\n",
       "\\item 'second'\n",
       "\\item 'weekday'\n",
       "\\end{enumerate*}\n"
      ],
      "text/markdown": [
       "1. 'Trip.Start.Timestamp'\n",
       "2. 'Trip.Seconds'\n",
       "3. 'Trip.Miles'\n",
       "4. 'Pickup.Community.Area'\n",
       "5. 'Drop.off.community.Area'\n",
       "6. 'id'\n",
       "7. 'lubridateDate'\n",
       "8. 'lubridateDateOnly'\n",
       "9. 'month'\n",
       "10. 'day'\n",
       "11. 'year'\n",
       "12. 'hour'\n",
       "13. 'minute'\n",
       "14. 'second'\n",
       "15. 'weekday'\n",
       "\n",
       "\n"
      ],
      "text/plain": [
       " [1] \"Trip.Start.Timestamp\"    \"Trip.Seconds\"           \n",
       " [3] \"Trip.Miles\"              \"Pickup.Community.Area\"  \n",
       " [5] \"Drop.off.community.Area\" \"id\"                     \n",
       " [7] \"lubridateDate\"           \"lubridateDateOnly\"      \n",
       " [9] \"month\"                   \"day\"                    \n",
       "[11] \"year\"                    \"hour\"                   \n",
       "[13] \"minute\"                  \"second\"                 \n",
       "[15] \"weekday\"                "
      ]
     },
     "metadata": {},
     "output_type": "display_data"
    }
   ],
   "source": [
    "colnames(allData3)"
   ]
  },
  {
   "cell_type": "code",
   "execution_count": 92,
   "id": "3ae482ea",
   "metadata": {},
   "outputs": [
    {
     "data": {
      "text/html": [
       "<table>\n",
       "<thead><tr><th scope=col>Trip.Start.Timestamp</th><th scope=col>Trip.Seconds</th><th scope=col>Trip.Miles</th><th scope=col>Pickup.Community.Area</th><th scope=col>Drop.off.community.Area</th><th scope=col>id</th><th scope=col>lubridateDate</th><th scope=col>lubridateDateOnly</th><th scope=col>month</th><th scope=col>day</th><th scope=col>year</th><th scope=col>hour</th><th scope=col>minute</th><th scope=col>second</th><th scope=col>weekday</th></tr></thead>\n",
       "<tbody>\n",
       "\t<tr><td>01/01/2019 12:00:00 AM</td><td>1260                  </td><td>0.6                   </td><td>77                    </td><td>28                    </td><td>26                    </td><td>2019-01-01            </td><td>2019-01-01            </td><td>1                     </td><td>1                     </td><td>2019                  </td><td>0                     </td><td>0                     </td><td>0                     </td><td>Tuesday               </td></tr>\n",
       "\t<tr><td>01/01/2019 12:00:00 AM</td><td> 360                  </td><td>0.8                   </td><td> 8                    </td><td> 8                    </td><td>50                    </td><td>2019-01-01            </td><td>2019-01-01            </td><td>1                     </td><td>1                     </td><td>2019                  </td><td>0                     </td><td>0                     </td><td>0                     </td><td>Tuesday               </td></tr>\n",
       "\t<tr><td>01/01/2019 12:00:00 AM</td><td> 360                  </td><td>1.0                   </td><td> 8                    </td><td> 8                    </td><td>50                    </td><td>2019-01-01            </td><td>2019-01-01            </td><td>1                     </td><td>1                     </td><td>2019                  </td><td>0                     </td><td>0                     </td><td>0                     </td><td>Tuesday               </td></tr>\n",
       "\t<tr><td>01/01/2019 12:00:00 AM</td><td> 420                  </td><td>0.8                   </td><td> 8                    </td><td> 8                    </td><td>51                    </td><td>2019-01-01            </td><td>2019-01-01            </td><td>1                     </td><td>1                     </td><td>2019                  </td><td>0                     </td><td>0                     </td><td>0                     </td><td>Tuesday               </td></tr>\n",
       "\t<tr><td>01/01/2019 12:00:00 AM</td><td> 180                  </td><td>0.7                   </td><td>77                    </td><td> 4                    </td><td>50                    </td><td>2019-01-01            </td><td>2019-01-01            </td><td>1                     </td><td>1                     </td><td>2019                  </td><td>0                     </td><td>0                     </td><td>0                     </td><td>Tuesday               </td></tr>\n",
       "\t<tr><td>01/01/2019 12:00:00 AM</td><td> 960                  </td><td>0.6                   </td><td>28                    </td><td>32                    </td><td>50                    </td><td>2019-01-01            </td><td>2019-01-01            </td><td>1                     </td><td>1                     </td><td>2019                  </td><td>0                     </td><td>0                     </td><td>0                     </td><td>Tuesday               </td></tr>\n",
       "</tbody>\n",
       "</table>\n"
      ],
      "text/latex": [
       "\\begin{tabular}{r|lllllllllllllll}\n",
       " Trip.Start.Timestamp & Trip.Seconds & Trip.Miles & Pickup.Community.Area & Drop.off.community.Area & id & lubridateDate & lubridateDateOnly & month & day & year & hour & minute & second & weekday\\\\\n",
       "\\hline\n",
       "\t 01/01/2019 12:00:00 AM & 1260                   & 0.6                    & 77                     & 28                     & 26                     & 2019-01-01             & 2019-01-01             & 1                      & 1                      & 2019                   & 0                      & 0                      & 0                      & Tuesday               \\\\\n",
       "\t 01/01/2019 12:00:00 AM &  360                   & 0.8                    &  8                     &  8                     & 50                     & 2019-01-01             & 2019-01-01             & 1                      & 1                      & 2019                   & 0                      & 0                      & 0                      & Tuesday               \\\\\n",
       "\t 01/01/2019 12:00:00 AM &  360                   & 1.0                    &  8                     &  8                     & 50                     & 2019-01-01             & 2019-01-01             & 1                      & 1                      & 2019                   & 0                      & 0                      & 0                      & Tuesday               \\\\\n",
       "\t 01/01/2019 12:00:00 AM &  420                   & 0.8                    &  8                     &  8                     & 51                     & 2019-01-01             & 2019-01-01             & 1                      & 1                      & 2019                   & 0                      & 0                      & 0                      & Tuesday               \\\\\n",
       "\t 01/01/2019 12:00:00 AM &  180                   & 0.7                    & 77                     &  4                     & 50                     & 2019-01-01             & 2019-01-01             & 1                      & 1                      & 2019                   & 0                      & 0                      & 0                      & Tuesday               \\\\\n",
       "\t 01/01/2019 12:00:00 AM &  960                   & 0.6                    & 28                     & 32                     & 50                     & 2019-01-01             & 2019-01-01             & 1                      & 1                      & 2019                   & 0                      & 0                      & 0                      & Tuesday               \\\\\n",
       "\\end{tabular}\n"
      ],
      "text/markdown": [
       "\n",
       "| Trip.Start.Timestamp | Trip.Seconds | Trip.Miles | Pickup.Community.Area | Drop.off.community.Area | id | lubridateDate | lubridateDateOnly | month | day | year | hour | minute | second | weekday |\n",
       "|---|---|---|---|---|---|---|---|---|---|---|---|---|---|---|\n",
       "| 01/01/2019 12:00:00 AM | 1260                   | 0.6                    | 77                     | 28                     | 26                     | 2019-01-01             | 2019-01-01             | 1                      | 1                      | 2019                   | 0                      | 0                      | 0                      | Tuesday                |\n",
       "| 01/01/2019 12:00:00 AM |  360                   | 0.8                    |  8                     |  8                     | 50                     | 2019-01-01             | 2019-01-01             | 1                      | 1                      | 2019                   | 0                      | 0                      | 0                      | Tuesday                |\n",
       "| 01/01/2019 12:00:00 AM |  360                   | 1.0                    |  8                     |  8                     | 50                     | 2019-01-01             | 2019-01-01             | 1                      | 1                      | 2019                   | 0                      | 0                      | 0                      | Tuesday                |\n",
       "| 01/01/2019 12:00:00 AM |  420                   | 0.8                    |  8                     |  8                     | 51                     | 2019-01-01             | 2019-01-01             | 1                      | 1                      | 2019                   | 0                      | 0                      | 0                      | Tuesday                |\n",
       "| 01/01/2019 12:00:00 AM |  180                   | 0.7                    | 77                     |  4                     | 50                     | 2019-01-01             | 2019-01-01             | 1                      | 1                      | 2019                   | 0                      | 0                      | 0                      | Tuesday                |\n",
       "| 01/01/2019 12:00:00 AM |  960                   | 0.6                    | 28                     | 32                     | 50                     | 2019-01-01             | 2019-01-01             | 1                      | 1                      | 2019                   | 0                      | 0                      | 0                      | Tuesday                |\n",
       "\n"
      ],
      "text/plain": [
       "  Trip.Start.Timestamp   Trip.Seconds Trip.Miles Pickup.Community.Area\n",
       "1 01/01/2019 12:00:00 AM 1260         0.6        77                   \n",
       "2 01/01/2019 12:00:00 AM  360         0.8         8                   \n",
       "3 01/01/2019 12:00:00 AM  360         1.0         8                   \n",
       "4 01/01/2019 12:00:00 AM  420         0.8         8                   \n",
       "5 01/01/2019 12:00:00 AM  180         0.7        77                   \n",
       "6 01/01/2019 12:00:00 AM  960         0.6        28                   \n",
       "  Drop.off.community.Area id lubridateDate lubridateDateOnly month day year\n",
       "1 28                      26 2019-01-01    2019-01-01        1     1   2019\n",
       "2  8                      50 2019-01-01    2019-01-01        1     1   2019\n",
       "3  8                      50 2019-01-01    2019-01-01        1     1   2019\n",
       "4  8                      51 2019-01-01    2019-01-01        1     1   2019\n",
       "5  4                      50 2019-01-01    2019-01-01        1     1   2019\n",
       "6 32                      50 2019-01-01    2019-01-01        1     1   2019\n",
       "  hour minute second weekday\n",
       "1 0    0      0      Tuesday\n",
       "2 0    0      0      Tuesday\n",
       "3 0    0      0      Tuesday\n",
       "4 0    0      0      Tuesday\n",
       "5 0    0      0      Tuesday\n",
       "6 0    0      0      Tuesday"
      ]
     },
     "metadata": {},
     "output_type": "display_data"
    }
   ],
   "source": [
    "head(allData3)"
   ]
  },
  {
   "cell_type": "code",
   "execution_count": 93,
   "id": "f25abfe4",
   "metadata": {},
   "outputs": [
    {
     "data": {
      "text/html": [
       "<table>\n",
       "<thead><tr><th></th><th scope=col>Trip.Start.Timestamp</th><th scope=col>Trip.Seconds</th><th scope=col>Trip.Miles</th><th scope=col>Pickup.Community.Area</th><th scope=col>Drop.off.community.Area</th><th scope=col>id</th><th scope=col>lubridateDate</th><th scope=col>lubridateDateOnly</th><th scope=col>month</th><th scope=col>day</th><th scope=col>year</th><th scope=col>hour</th><th scope=col>minute</th><th scope=col>second</th><th scope=col>weekday</th></tr></thead>\n",
       "<tbody>\n",
       "\t<tr><th scope=row>11398001</th><td>12/31/2019 11:45:00 PM</td><td>2241                  </td><td> 2.21                 </td><td>32                    </td><td> 8                    </td><td>36                    </td><td>2019-12-31 23:45:00   </td><td>2019-12-31            </td><td>12                    </td><td>31                    </td><td>2019                  </td><td>23                    </td><td>45                    </td><td>0                     </td><td>Tuesday               </td></tr>\n",
       "\t<tr><th scope=row>11398002</th><td>12/31/2019 11:45:00 PM</td><td>1639                  </td><td> 4.10                 </td><td> 7                    </td><td>32                    </td><td>48                    </td><td>2019-12-31 23:45:00   </td><td>2019-12-31            </td><td>12                    </td><td>31                    </td><td>2019                  </td><td>23                    </td><td>45                    </td><td>0                     </td><td>Tuesday               </td></tr>\n",
       "\t<tr><th scope=row>11398003</th><td>12/31/2019 11:45:00 PM</td><td>2040                  </td><td>18.30                 </td><td>76                    </td><td> 8                    </td><td>13                    </td><td>2019-12-31 23:45:00   </td><td>2019-12-31            </td><td>12                    </td><td>31                    </td><td>2019                  </td><td>23                    </td><td>45                    </td><td>0                     </td><td>Tuesday               </td></tr>\n",
       "\t<tr><th scope=row>11398004</th><td>12/31/2019 11:45:00 PM</td><td>4271                  </td><td>17.81                 </td><td>56                    </td><td> 8                    </td><td>29                    </td><td>2019-12-31 23:45:00   </td><td>2019-12-31            </td><td>12                    </td><td>31                    </td><td>2019                  </td><td>23                    </td><td>45                    </td><td>0                     </td><td>Tuesday               </td></tr>\n",
       "\t<tr><th scope=row>11398005</th><td>12/31/2019 11:45:00 PM</td><td> 600                  </td><td> 1.30                 </td><td>32                    </td><td> 8                    </td><td>47                    </td><td>2019-12-31 23:45:00   </td><td>2019-12-31            </td><td>12                    </td><td>31                    </td><td>2019                  </td><td>23                    </td><td>45                    </td><td>0                     </td><td>Tuesday               </td></tr>\n",
       "\t<tr><th scope=row>11398006</th><td>12/31/2019 11:45:00 PM</td><td>1303                  </td><td> 2.90                 </td><td> 8                    </td><td>32                    </td><td>29                    </td><td>2019-12-31 23:45:00   </td><td>2019-12-31            </td><td>12                    </td><td>31                    </td><td>2019                  </td><td>23                    </td><td>45                    </td><td>0                     </td><td>Tuesday               </td></tr>\n",
       "</tbody>\n",
       "</table>\n"
      ],
      "text/latex": [
       "\\begin{tabular}{r|lllllllllllllll}\n",
       "  & Trip.Start.Timestamp & Trip.Seconds & Trip.Miles & Pickup.Community.Area & Drop.off.community.Area & id & lubridateDate & lubridateDateOnly & month & day & year & hour & minute & second & weekday\\\\\n",
       "\\hline\n",
       "\t11398001 & 12/31/2019 11:45:00 PM & 2241                   &  2.21                  & 32                     &  8                     & 36                     & 2019-12-31 23:45:00    & 2019-12-31             & 12                     & 31                     & 2019                   & 23                     & 45                     & 0                      & Tuesday               \\\\\n",
       "\t11398002 & 12/31/2019 11:45:00 PM & 1639                   &  4.10                  &  7                     & 32                     & 48                     & 2019-12-31 23:45:00    & 2019-12-31             & 12                     & 31                     & 2019                   & 23                     & 45                     & 0                      & Tuesday               \\\\\n",
       "\t11398003 & 12/31/2019 11:45:00 PM & 2040                   & 18.30                  & 76                     &  8                     & 13                     & 2019-12-31 23:45:00    & 2019-12-31             & 12                     & 31                     & 2019                   & 23                     & 45                     & 0                      & Tuesday               \\\\\n",
       "\t11398004 & 12/31/2019 11:45:00 PM & 4271                   & 17.81                  & 56                     &  8                     & 29                     & 2019-12-31 23:45:00    & 2019-12-31             & 12                     & 31                     & 2019                   & 23                     & 45                     & 0                      & Tuesday               \\\\\n",
       "\t11398005 & 12/31/2019 11:45:00 PM &  600                   &  1.30                  & 32                     &  8                     & 47                     & 2019-12-31 23:45:00    & 2019-12-31             & 12                     & 31                     & 2019                   & 23                     & 45                     & 0                      & Tuesday               \\\\\n",
       "\t11398006 & 12/31/2019 11:45:00 PM & 1303                   &  2.90                  &  8                     & 32                     & 29                     & 2019-12-31 23:45:00    & 2019-12-31             & 12                     & 31                     & 2019                   & 23                     & 45                     & 0                      & Tuesday               \\\\\n",
       "\\end{tabular}\n"
      ],
      "text/markdown": [
       "\n",
       "| <!--/--> | Trip.Start.Timestamp | Trip.Seconds | Trip.Miles | Pickup.Community.Area | Drop.off.community.Area | id | lubridateDate | lubridateDateOnly | month | day | year | hour | minute | second | weekday |\n",
       "|---|---|---|---|---|---|---|---|---|---|---|---|---|---|---|---|\n",
       "| 11398001 | 12/31/2019 11:45:00 PM | 2241                   |  2.21                  | 32                     |  8                     | 36                     | 2019-12-31 23:45:00    | 2019-12-31             | 12                     | 31                     | 2019                   | 23                     | 45                     | 0                      | Tuesday                |\n",
       "| 11398002 | 12/31/2019 11:45:00 PM | 1639                   |  4.10                  |  7                     | 32                     | 48                     | 2019-12-31 23:45:00    | 2019-12-31             | 12                     | 31                     | 2019                   | 23                     | 45                     | 0                      | Tuesday                |\n",
       "| 11398003 | 12/31/2019 11:45:00 PM | 2040                   | 18.30                  | 76                     |  8                     | 13                     | 2019-12-31 23:45:00    | 2019-12-31             | 12                     | 31                     | 2019                   | 23                     | 45                     | 0                      | Tuesday                |\n",
       "| 11398004 | 12/31/2019 11:45:00 PM | 4271                   | 17.81                  | 56                     |  8                     | 29                     | 2019-12-31 23:45:00    | 2019-12-31             | 12                     | 31                     | 2019                   | 23                     | 45                     | 0                      | Tuesday                |\n",
       "| 11398005 | 12/31/2019 11:45:00 PM |  600                   |  1.30                  | 32                     |  8                     | 47                     | 2019-12-31 23:45:00    | 2019-12-31             | 12                     | 31                     | 2019                   | 23                     | 45                     | 0                      | Tuesday                |\n",
       "| 11398006 | 12/31/2019 11:45:00 PM | 1303                   |  2.90                  |  8                     | 32                     | 29                     | 2019-12-31 23:45:00    | 2019-12-31             | 12                     | 31                     | 2019                   | 23                     | 45                     | 0                      | Tuesday                |\n",
       "\n"
      ],
      "text/plain": [
       "         Trip.Start.Timestamp   Trip.Seconds Trip.Miles Pickup.Community.Area\n",
       "11398001 12/31/2019 11:45:00 PM 2241          2.21      32                   \n",
       "11398002 12/31/2019 11:45:00 PM 1639          4.10       7                   \n",
       "11398003 12/31/2019 11:45:00 PM 2040         18.30      76                   \n",
       "11398004 12/31/2019 11:45:00 PM 4271         17.81      56                   \n",
       "11398005 12/31/2019 11:45:00 PM  600          1.30      32                   \n",
       "11398006 12/31/2019 11:45:00 PM 1303          2.90       8                   \n",
       "         Drop.off.community.Area id lubridateDate       lubridateDateOnly month\n",
       "11398001  8                      36 2019-12-31 23:45:00 2019-12-31        12   \n",
       "11398002 32                      48 2019-12-31 23:45:00 2019-12-31        12   \n",
       "11398003  8                      13 2019-12-31 23:45:00 2019-12-31        12   \n",
       "11398004  8                      29 2019-12-31 23:45:00 2019-12-31        12   \n",
       "11398005  8                      47 2019-12-31 23:45:00 2019-12-31        12   \n",
       "11398006 32                      29 2019-12-31 23:45:00 2019-12-31        12   \n",
       "         day year hour minute second weekday\n",
       "11398001 31  2019 23   45     0      Tuesday\n",
       "11398002 31  2019 23   45     0      Tuesday\n",
       "11398003 31  2019 23   45     0      Tuesday\n",
       "11398004 31  2019 23   45     0      Tuesday\n",
       "11398005 31  2019 23   45     0      Tuesday\n",
       "11398006 31  2019 23   45     0      Tuesday"
      ]
     },
     "metadata": {},
     "output_type": "display_data"
    }
   ],
   "source": [
    "tail(allData3)"
   ]
  },
  {
   "cell_type": "code",
   "execution_count": 95,
   "id": "ec0b335b",
   "metadata": {},
   "outputs": [],
   "source": [
    "daycount <- allData3 %>% group_by(lubridateDateOnly) %>%summarise(count = n())"
   ]
  },
  {
   "cell_type": "code",
   "execution_count": 96,
   "id": "3e821891",
   "metadata": {},
   "outputs": [
    {
     "data": {
      "text/html": [
       "<table>\n",
       "<thead><tr><th scope=col>lubridateDateOnly</th><th scope=col>count</th></tr></thead>\n",
       "<tbody>\n",
       "\t<tr><td>2019-01-01</td><td>19110     </td></tr>\n",
       "\t<tr><td>2019-01-02</td><td>24055     </td></tr>\n",
       "\t<tr><td>2019-01-03</td><td>28028     </td></tr>\n",
       "\t<tr><td>2019-01-04</td><td>29721     </td></tr>\n",
       "\t<tr><td>2019-01-05</td><td>19212     </td></tr>\n",
       "\t<tr><td>2019-01-06</td><td>18148     </td></tr>\n",
       "\t<tr><td>2019-01-07</td><td>28792     </td></tr>\n",
       "\t<tr><td>2019-01-08</td><td>30730     </td></tr>\n",
       "\t<tr><td>2019-01-09</td><td>35747     </td></tr>\n",
       "\t<tr><td>2019-01-10</td><td>38262     </td></tr>\n",
       "\t<tr><td>2019-01-11</td><td>37365     </td></tr>\n",
       "\t<tr><td>2019-01-12</td><td>21720     </td></tr>\n",
       "\t<tr><td>2019-01-13</td><td>16328     </td></tr>\n",
       "\t<tr><td>2019-01-14</td><td>29996     </td></tr>\n",
       "\t<tr><td>2019-01-15</td><td>34458     </td></tr>\n",
       "\t<tr><td>2019-01-16</td><td>36520     </td></tr>\n",
       "\t<tr><td>2019-01-17</td><td>38159     </td></tr>\n",
       "\t<tr><td>2019-01-18</td><td>36753     </td></tr>\n",
       "\t<tr><td>2019-01-19</td><td>19443     </td></tr>\n",
       "\t<tr><td>2019-01-20</td><td>17781     </td></tr>\n",
       "\t<tr><td>2019-01-21</td><td>21791     </td></tr>\n",
       "\t<tr><td>2019-01-22</td><td>35460     </td></tr>\n",
       "\t<tr><td>2019-01-23</td><td>38184     </td></tr>\n",
       "\t<tr><td>2019-01-24</td><td>40782     </td></tr>\n",
       "\t<tr><td>2019-01-25</td><td>37155     </td></tr>\n",
       "\t<tr><td>2019-01-26</td><td>19980     </td></tr>\n",
       "\t<tr><td>2019-01-27</td><td>17114     </td></tr>\n",
       "\t<tr><td>2019-01-28</td><td>27789     </td></tr>\n",
       "\t<tr><td>2019-01-29</td><td>31528     </td></tr>\n",
       "\t<tr><td>2019-01-30</td><td> 9278     </td></tr>\n",
       "\t<tr><td>...</td><td>...</td></tr>\n",
       "\t<tr><td>2019-12-02</td><td>36576     </td></tr>\n",
       "\t<tr><td>2019-12-03</td><td>39864     </td></tr>\n",
       "\t<tr><td>2019-12-04</td><td>40985     </td></tr>\n",
       "\t<tr><td>2019-12-05</td><td>44215     </td></tr>\n",
       "\t<tr><td>2019-12-06</td><td>41827     </td></tr>\n",
       "\t<tr><td>2019-12-07</td><td>25833     </td></tr>\n",
       "\t<tr><td>2019-12-08</td><td>18607     </td></tr>\n",
       "\t<tr><td>2019-12-09</td><td>30564     </td></tr>\n",
       "\t<tr><td>2019-12-10</td><td>36485     </td></tr>\n",
       "\t<tr><td>2019-12-11</td><td>37676     </td></tr>\n",
       "\t<tr><td>2019-12-12</td><td>41299     </td></tr>\n",
       "\t<tr><td>2019-12-13</td><td>39491     </td></tr>\n",
       "\t<tr><td>2019-12-14</td><td>25795     </td></tr>\n",
       "\t<tr><td>2019-12-15</td><td>18214     </td></tr>\n",
       "\t<tr><td>2019-12-16</td><td>30944     </td></tr>\n",
       "\t<tr><td>2019-12-17</td><td>35582     </td></tr>\n",
       "\t<tr><td>2019-12-18</td><td>38511     </td></tr>\n",
       "\t<tr><td>2019-12-19</td><td>39871     </td></tr>\n",
       "\t<tr><td>2019-12-20</td><td>36583     </td></tr>\n",
       "\t<tr><td>2019-12-21</td><td>21297     </td></tr>\n",
       "\t<tr><td>2019-12-22</td><td>17805     </td></tr>\n",
       "\t<tr><td>2019-12-23</td><td>22689     </td></tr>\n",
       "\t<tr><td>2019-12-24</td><td>12427     </td></tr>\n",
       "\t<tr><td>2019-12-25</td><td> 5498     </td></tr>\n",
       "\t<tr><td>2019-12-26</td><td>14749     </td></tr>\n",
       "\t<tr><td>2019-12-27</td><td>20604     </td></tr>\n",
       "\t<tr><td>2019-12-28</td><td>17424     </td></tr>\n",
       "\t<tr><td>2019-12-29</td><td>14278     </td></tr>\n",
       "\t<tr><td>2019-12-30</td><td>20878     </td></tr>\n",
       "\t<tr><td>2019-12-31</td><td>20018     </td></tr>\n",
       "</tbody>\n",
       "</table>\n"
      ],
      "text/latex": [
       "\\begin{tabular}{r|ll}\n",
       " lubridateDateOnly & count\\\\\n",
       "\\hline\n",
       "\t 2019-01-01 & 19110     \\\\\n",
       "\t 2019-01-02 & 24055     \\\\\n",
       "\t 2019-01-03 & 28028     \\\\\n",
       "\t 2019-01-04 & 29721     \\\\\n",
       "\t 2019-01-05 & 19212     \\\\\n",
       "\t 2019-01-06 & 18148     \\\\\n",
       "\t 2019-01-07 & 28792     \\\\\n",
       "\t 2019-01-08 & 30730     \\\\\n",
       "\t 2019-01-09 & 35747     \\\\\n",
       "\t 2019-01-10 & 38262     \\\\\n",
       "\t 2019-01-11 & 37365     \\\\\n",
       "\t 2019-01-12 & 21720     \\\\\n",
       "\t 2019-01-13 & 16328     \\\\\n",
       "\t 2019-01-14 & 29996     \\\\\n",
       "\t 2019-01-15 & 34458     \\\\\n",
       "\t 2019-01-16 & 36520     \\\\\n",
       "\t 2019-01-17 & 38159     \\\\\n",
       "\t 2019-01-18 & 36753     \\\\\n",
       "\t 2019-01-19 & 19443     \\\\\n",
       "\t 2019-01-20 & 17781     \\\\\n",
       "\t 2019-01-21 & 21791     \\\\\n",
       "\t 2019-01-22 & 35460     \\\\\n",
       "\t 2019-01-23 & 38184     \\\\\n",
       "\t 2019-01-24 & 40782     \\\\\n",
       "\t 2019-01-25 & 37155     \\\\\n",
       "\t 2019-01-26 & 19980     \\\\\n",
       "\t 2019-01-27 & 17114     \\\\\n",
       "\t 2019-01-28 & 27789     \\\\\n",
       "\t 2019-01-29 & 31528     \\\\\n",
       "\t 2019-01-30 &  9278     \\\\\n",
       "\t ... & ...\\\\\n",
       "\t 2019-12-02 & 36576     \\\\\n",
       "\t 2019-12-03 & 39864     \\\\\n",
       "\t 2019-12-04 & 40985     \\\\\n",
       "\t 2019-12-05 & 44215     \\\\\n",
       "\t 2019-12-06 & 41827     \\\\\n",
       "\t 2019-12-07 & 25833     \\\\\n",
       "\t 2019-12-08 & 18607     \\\\\n",
       "\t 2019-12-09 & 30564     \\\\\n",
       "\t 2019-12-10 & 36485     \\\\\n",
       "\t 2019-12-11 & 37676     \\\\\n",
       "\t 2019-12-12 & 41299     \\\\\n",
       "\t 2019-12-13 & 39491     \\\\\n",
       "\t 2019-12-14 & 25795     \\\\\n",
       "\t 2019-12-15 & 18214     \\\\\n",
       "\t 2019-12-16 & 30944     \\\\\n",
       "\t 2019-12-17 & 35582     \\\\\n",
       "\t 2019-12-18 & 38511     \\\\\n",
       "\t 2019-12-19 & 39871     \\\\\n",
       "\t 2019-12-20 & 36583     \\\\\n",
       "\t 2019-12-21 & 21297     \\\\\n",
       "\t 2019-12-22 & 17805     \\\\\n",
       "\t 2019-12-23 & 22689     \\\\\n",
       "\t 2019-12-24 & 12427     \\\\\n",
       "\t 2019-12-25 &  5498     \\\\\n",
       "\t 2019-12-26 & 14749     \\\\\n",
       "\t 2019-12-27 & 20604     \\\\\n",
       "\t 2019-12-28 & 17424     \\\\\n",
       "\t 2019-12-29 & 14278     \\\\\n",
       "\t 2019-12-30 & 20878     \\\\\n",
       "\t 2019-12-31 & 20018     \\\\\n",
       "\\end{tabular}\n"
      ],
      "text/markdown": [
       "\n",
       "| lubridateDateOnly | count |\n",
       "|---|---|\n",
       "| 2019-01-01 | 19110      |\n",
       "| 2019-01-02 | 24055      |\n",
       "| 2019-01-03 | 28028      |\n",
       "| 2019-01-04 | 29721      |\n",
       "| 2019-01-05 | 19212      |\n",
       "| 2019-01-06 | 18148      |\n",
       "| 2019-01-07 | 28792      |\n",
       "| 2019-01-08 | 30730      |\n",
       "| 2019-01-09 | 35747      |\n",
       "| 2019-01-10 | 38262      |\n",
       "| 2019-01-11 | 37365      |\n",
       "| 2019-01-12 | 21720      |\n",
       "| 2019-01-13 | 16328      |\n",
       "| 2019-01-14 | 29996      |\n",
       "| 2019-01-15 | 34458      |\n",
       "| 2019-01-16 | 36520      |\n",
       "| 2019-01-17 | 38159      |\n",
       "| 2019-01-18 | 36753      |\n",
       "| 2019-01-19 | 19443      |\n",
       "| 2019-01-20 | 17781      |\n",
       "| 2019-01-21 | 21791      |\n",
       "| 2019-01-22 | 35460      |\n",
       "| 2019-01-23 | 38184      |\n",
       "| 2019-01-24 | 40782      |\n",
       "| 2019-01-25 | 37155      |\n",
       "| 2019-01-26 | 19980      |\n",
       "| 2019-01-27 | 17114      |\n",
       "| 2019-01-28 | 27789      |\n",
       "| 2019-01-29 | 31528      |\n",
       "| 2019-01-30 |  9278      |\n",
       "| ... | ... |\n",
       "| 2019-12-02 | 36576      |\n",
       "| 2019-12-03 | 39864      |\n",
       "| 2019-12-04 | 40985      |\n",
       "| 2019-12-05 | 44215      |\n",
       "| 2019-12-06 | 41827      |\n",
       "| 2019-12-07 | 25833      |\n",
       "| 2019-12-08 | 18607      |\n",
       "| 2019-12-09 | 30564      |\n",
       "| 2019-12-10 | 36485      |\n",
       "| 2019-12-11 | 37676      |\n",
       "| 2019-12-12 | 41299      |\n",
       "| 2019-12-13 | 39491      |\n",
       "| 2019-12-14 | 25795      |\n",
       "| 2019-12-15 | 18214      |\n",
       "| 2019-12-16 | 30944      |\n",
       "| 2019-12-17 | 35582      |\n",
       "| 2019-12-18 | 38511      |\n",
       "| 2019-12-19 | 39871      |\n",
       "| 2019-12-20 | 36583      |\n",
       "| 2019-12-21 | 21297      |\n",
       "| 2019-12-22 | 17805      |\n",
       "| 2019-12-23 | 22689      |\n",
       "| 2019-12-24 | 12427      |\n",
       "| 2019-12-25 |  5498      |\n",
       "| 2019-12-26 | 14749      |\n",
       "| 2019-12-27 | 20604      |\n",
       "| 2019-12-28 | 17424      |\n",
       "| 2019-12-29 | 14278      |\n",
       "| 2019-12-30 | 20878      |\n",
       "| 2019-12-31 | 20018      |\n",
       "\n"
      ],
      "text/plain": [
       "    lubridateDateOnly count\n",
       "1   2019-01-01        19110\n",
       "2   2019-01-02        24055\n",
       "3   2019-01-03        28028\n",
       "4   2019-01-04        29721\n",
       "5   2019-01-05        19212\n",
       "6   2019-01-06        18148\n",
       "7   2019-01-07        28792\n",
       "8   2019-01-08        30730\n",
       "9   2019-01-09        35747\n",
       "10  2019-01-10        38262\n",
       "11  2019-01-11        37365\n",
       "12  2019-01-12        21720\n",
       "13  2019-01-13        16328\n",
       "14  2019-01-14        29996\n",
       "15  2019-01-15        34458\n",
       "16  2019-01-16        36520\n",
       "17  2019-01-17        38159\n",
       "18  2019-01-18        36753\n",
       "19  2019-01-19        19443\n",
       "20  2019-01-20        17781\n",
       "21  2019-01-21        21791\n",
       "22  2019-01-22        35460\n",
       "23  2019-01-23        38184\n",
       "24  2019-01-24        40782\n",
       "25  2019-01-25        37155\n",
       "26  2019-01-26        19980\n",
       "27  2019-01-27        17114\n",
       "28  2019-01-28        27789\n",
       "29  2019-01-29        31528\n",
       "30  2019-01-30         9278\n",
       "... ...               ...  \n",
       "336 2019-12-02        36576\n",
       "337 2019-12-03        39864\n",
       "338 2019-12-04        40985\n",
       "339 2019-12-05        44215\n",
       "340 2019-12-06        41827\n",
       "341 2019-12-07        25833\n",
       "342 2019-12-08        18607\n",
       "343 2019-12-09        30564\n",
       "344 2019-12-10        36485\n",
       "345 2019-12-11        37676\n",
       "346 2019-12-12        41299\n",
       "347 2019-12-13        39491\n",
       "348 2019-12-14        25795\n",
       "349 2019-12-15        18214\n",
       "350 2019-12-16        30944\n",
       "351 2019-12-17        35582\n",
       "352 2019-12-18        38511\n",
       "353 2019-12-19        39871\n",
       "354 2019-12-20        36583\n",
       "355 2019-12-21        21297\n",
       "356 2019-12-22        17805\n",
       "357 2019-12-23        22689\n",
       "358 2019-12-24        12427\n",
       "359 2019-12-25         5498\n",
       "360 2019-12-26        14749\n",
       "361 2019-12-27        20604\n",
       "362 2019-12-28        17424\n",
       "363 2019-12-29        14278\n",
       "364 2019-12-30        20878\n",
       "365 2019-12-31        20018"
      ]
     },
     "metadata": {},
     "output_type": "display_data"
    }
   ],
   "source": [
    "daycount"
   ]
  },
  {
   "cell_type": "code",
   "execution_count": 102,
   "id": "9342acb8",
   "metadata": {},
   "outputs": [
    {
     "data": {
      "image/png": "[encoded data removed]",
      "text/plain": [
       "plot without title"
      ]
     },
     "metadata": {},
     "output_type": "display_data"
    }
   ],
   "source": [
    "ggplot(daycount, aes(x=lubridateDateOnly, y=count))+geom_bar(stat=\"identity\", fill=\"#1f78b4\")+labs(y = \"Total Rides\", x=\"Date\", title=\"Per date count\")+scale_y_continuous(labels=comma)+theme(axis.text.x = element_text(angle = 90))"
   ]
  },
  {
   "cell_type": "code",
   "execution_count": null,
   "id": "46de0d12",
   "metadata": {},
   "outputs": [],
   "source": []
  }
 ],
 "metadata": {
  "kernelspec": {
   "display_name": "R",
   "language": "R",
   "name": "ir"
  },
  "language_info": {
   "codemirror_mode": "r",
   "file_extension": ".r",
   "mimetype": "text/x-r-source",
   "name": "R",
   "pygments_lexer": "r",
   "version": "3.6.1"
  }
 },
 "nbformat": 4,
 "nbformat_minor": 5
}
